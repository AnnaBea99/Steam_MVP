{
  "cells": [
    {
      "cell_type": "markdown",
      "metadata": {
        "id": "view-in-github",
        "colab_type": "text"
      },
      "source": [
        "<a href=\"https://colab.research.google.com/github/AnnaBea99/Steam_MVP/blob/main/steam_games_classificacao_mvp.ipynb\" target=\"_parent\"><img src=\"https://colab.research.google.com/assets/colab-badge.svg\" alt=\"Open In Colab\"/></a>"
      ]
    },
    {
      "cell_type": "markdown",
      "id": "74b7825e",
      "metadata": {
        "id": "74b7825e"
      },
      "source": [
        "# 📓 Classificação de Jogos Bem Avaliados no Steam\n",
        "\n",
        "Este notebook treina modelos de Machine Learning para prever se um jogo será **bem avaliado** no Steam com base em atributos como preço, número de reviews, tempo de jogo, gêneros e plataformas."
      ]
    },
    {
      "cell_type": "markdown",
      "id": "649395a8",
      "metadata": {
        "id": "649395a8"
      },
      "source": [
        "## 1. Importação de bibliotecas"
      ]
    },
    {
      "cell_type": "code",
      "execution_count": null,
      "id": "fbccbcd9",
      "metadata": {
        "id": "fbccbcd9"
      },
      "outputs": [],
      "source": [
        "\n",
        "import pandas as pd\n",
        "import numpy as np\n",
        "import matplotlib.pyplot as plt\n",
        "import seaborn as sns\n",
        "\n",
        "from sklearn.model_selection import train_test_split, GridSearchCV\n",
        "from sklearn.preprocessing import StandardScaler, OneHotEncoder\n",
        "from sklearn.compose import ColumnTransformer\n",
        "from sklearn.pipeline import Pipeline\n",
        "from sklearn.metrics import classification_report, confusion_matrix, ConfusionMatrixDisplay, roc_auc_score\n",
        "from sklearn.linear_model import LogisticRegression\n",
        "from sklearn.ensemble import RandomForestClassifier\n",
        "from xgboost import XGBClassifier\n"
      ]
    },
    {
      "cell_type": "markdown",
      "id": "55ff3994",
      "metadata": {
        "id": "55ff3994"
      },
      "source": [
        "## 2. Carregar dataset"
      ]
    },
    {
      "cell_type": "code",
      "execution_count": null,
      "id": "e7722d5a",
      "metadata": {
        "id": "e7722d5a",
        "outputId": "96295256-cc64-49b7-b1df-27ca6f1afe02"
      },
      "outputs": [
        {
          "data": {
            "text/html": [
              "<div>\n",
              "<style scoped>\n",
              "    .dataframe tbody tr th:only-of-type {\n",
              "        vertical-align: middle;\n",
              "    }\n",
              "\n",
              "    .dataframe tbody tr th {\n",
              "        vertical-align: top;\n",
              "    }\n",
              "\n",
              "    .dataframe thead th {\n",
              "        text-align: right;\n",
              "    }\n",
              "</style>\n",
              "<table border=\"1\" class=\"dataframe\">\n",
              "  <thead>\n",
              "    <tr style=\"text-align: right;\">\n",
              "      <th></th>\n",
              "      <th>AppID</th>\n",
              "      <th>Name</th>\n",
              "      <th>Release date</th>\n",
              "      <th>Estimated owners</th>\n",
              "      <th>Peak CCU</th>\n",
              "      <th>Required age</th>\n",
              "      <th>Price</th>\n",
              "      <th>DiscountDLC count</th>\n",
              "      <th>num</th>\n",
              "      <th>About the game</th>\n",
              "      <th>...</th>\n",
              "      <th>Average playtime two weeks</th>\n",
              "      <th>Median playtime forever</th>\n",
              "      <th>Median playtime two weeks</th>\n",
              "      <th>Developers</th>\n",
              "      <th>Publishers</th>\n",
              "      <th>Categories</th>\n",
              "      <th>Genres</th>\n",
              "      <th>Tags</th>\n",
              "      <th>Screenshots</th>\n",
              "      <th>Movies</th>\n",
              "    </tr>\n",
              "  </thead>\n",
              "  <tbody>\n",
              "    <tr>\n",
              "      <th>0</th>\n",
              "      <td>20200</td>\n",
              "      <td>Galactic Bowling</td>\n",
              "      <td>Oct 21, 2008</td>\n",
              "      <td>0 - 20000</td>\n",
              "      <td>0</td>\n",
              "      <td>0</td>\n",
              "      <td>19.99</td>\n",
              "      <td>0</td>\n",
              "      <td>0</td>\n",
              "      <td>Galactic Bowling is an exaggerated and stylize...</td>\n",
              "      <td>...</td>\n",
              "      <td>0</td>\n",
              "      <td>0</td>\n",
              "      <td>0</td>\n",
              "      <td>Perpetual FX Creative</td>\n",
              "      <td>Perpetual FX Creative</td>\n",
              "      <td>Single-player,Multi-player,Steam Achievements,...</td>\n",
              "      <td>Casual,Indie,Sports</td>\n",
              "      <td>Indie,Casual,Sports,Bowling</td>\n",
              "      <td>https://cdn.akamai.steamstatic.com/steam/apps/...</td>\n",
              "      <td>http://cdn.akamai.steamstatic.com/steam/apps/2...</td>\n",
              "    </tr>\n",
              "    <tr>\n",
              "      <th>1</th>\n",
              "      <td>655370</td>\n",
              "      <td>Train Bandit</td>\n",
              "      <td>Oct 12, 2017</td>\n",
              "      <td>0 - 20000</td>\n",
              "      <td>0</td>\n",
              "      <td>0</td>\n",
              "      <td>0.99</td>\n",
              "      <td>0</td>\n",
              "      <td>0</td>\n",
              "      <td>THE LAW!! Looks to be a showdown atop a train....</td>\n",
              "      <td>...</td>\n",
              "      <td>0</td>\n",
              "      <td>0</td>\n",
              "      <td>0</td>\n",
              "      <td>Rusty Moyher</td>\n",
              "      <td>Wild Rooster</td>\n",
              "      <td>Single-player,Steam Achievements,Full controll...</td>\n",
              "      <td>Action,Indie</td>\n",
              "      <td>Indie,Action,Pixel Graphics,2D,Retro,Arcade,Sc...</td>\n",
              "      <td>https://cdn.akamai.steamstatic.com/steam/apps/...</td>\n",
              "      <td>http://cdn.akamai.steamstatic.com/steam/apps/2...</td>\n",
              "    </tr>\n",
              "    <tr>\n",
              "      <th>2</th>\n",
              "      <td>1732930</td>\n",
              "      <td>Jolt Project</td>\n",
              "      <td>Nov 17, 2021</td>\n",
              "      <td>0 - 20000</td>\n",
              "      <td>0</td>\n",
              "      <td>0</td>\n",
              "      <td>4.99</td>\n",
              "      <td>0</td>\n",
              "      <td>0</td>\n",
              "      <td>Jolt Project: The army now has a new robotics ...</td>\n",
              "      <td>...</td>\n",
              "      <td>0</td>\n",
              "      <td>0</td>\n",
              "      <td>0</td>\n",
              "      <td>Campião Games</td>\n",
              "      <td>Campião Games</td>\n",
              "      <td>Single-player</td>\n",
              "      <td>Action,Adventure,Indie,Strategy</td>\n",
              "      <td>NaN</td>\n",
              "      <td>https://cdn.akamai.steamstatic.com/steam/apps/...</td>\n",
              "      <td>http://cdn.akamai.steamstatic.com/steam/apps/2...</td>\n",
              "    </tr>\n",
              "    <tr>\n",
              "      <th>3</th>\n",
              "      <td>1355720</td>\n",
              "      <td>Henosis™</td>\n",
              "      <td>Jul 23, 2020</td>\n",
              "      <td>0 - 20000</td>\n",
              "      <td>0</td>\n",
              "      <td>0</td>\n",
              "      <td>5.99</td>\n",
              "      <td>0</td>\n",
              "      <td>0</td>\n",
              "      <td>HENOSIS™ is a mysterious 2D Platform Puzzler w...</td>\n",
              "      <td>...</td>\n",
              "      <td>0</td>\n",
              "      <td>0</td>\n",
              "      <td>0</td>\n",
              "      <td>Odd Critter Games</td>\n",
              "      <td>Odd Critter Games</td>\n",
              "      <td>Single-player,Full controller support</td>\n",
              "      <td>Adventure,Casual,Indie</td>\n",
              "      <td>2D Platformer,Atmospheric,Surreal,Mystery,Puzz...</td>\n",
              "      <td>https://cdn.akamai.steamstatic.com/steam/apps/...</td>\n",
              "      <td>http://cdn.akamai.steamstatic.com/steam/apps/2...</td>\n",
              "    </tr>\n",
              "    <tr>\n",
              "      <th>4</th>\n",
              "      <td>1139950</td>\n",
              "      <td>Two Weeks in Painland</td>\n",
              "      <td>Feb 3, 2020</td>\n",
              "      <td>0 - 20000</td>\n",
              "      <td>0</td>\n",
              "      <td>0</td>\n",
              "      <td>0.00</td>\n",
              "      <td>0</td>\n",
              "      <td>0</td>\n",
              "      <td>ABOUT THE GAME Play as a hacker who has arrang...</td>\n",
              "      <td>...</td>\n",
              "      <td>0</td>\n",
              "      <td>0</td>\n",
              "      <td>0</td>\n",
              "      <td>Unusual Games</td>\n",
              "      <td>Unusual Games</td>\n",
              "      <td>Single-player,Steam Achievements</td>\n",
              "      <td>Adventure,Indie</td>\n",
              "      <td>Indie,Adventure,Nudity,Violent,Sexual Content,...</td>\n",
              "      <td>https://cdn.akamai.steamstatic.com/steam/apps/...</td>\n",
              "      <td>http://cdn.akamai.steamstatic.com/steam/apps/2...</td>\n",
              "    </tr>\n",
              "  </tbody>\n",
              "</table>\n",
              "<p>5 rows × 40 columns</p>\n",
              "</div>"
            ],
            "text/plain": [
              "     AppID                   Name  Release date Estimated owners  Peak CCU  \\\n",
              "0    20200       Galactic Bowling  Oct 21, 2008        0 - 20000         0   \n",
              "1   655370           Train Bandit  Oct 12, 2017        0 - 20000         0   \n",
              "2  1732930           Jolt Project  Nov 17, 2021        0 - 20000         0   \n",
              "3  1355720               Henosis™  Jul 23, 2020        0 - 20000         0   \n",
              "4  1139950  Two Weeks in Painland   Feb 3, 2020        0 - 20000         0   \n",
              "\n",
              "   Required age  Price  DiscountDLC count  num  \\\n",
              "0             0  19.99                  0    0   \n",
              "1             0   0.99                  0    0   \n",
              "2             0   4.99                  0    0   \n",
              "3             0   5.99                  0    0   \n",
              "4             0   0.00                  0    0   \n",
              "\n",
              "                                      About the game  ...  \\\n",
              "0  Galactic Bowling is an exaggerated and stylize...  ...   \n",
              "1  THE LAW!! Looks to be a showdown atop a train....  ...   \n",
              "2  Jolt Project: The army now has a new robotics ...  ...   \n",
              "3  HENOSIS™ is a mysterious 2D Platform Puzzler w...  ...   \n",
              "4  ABOUT THE GAME Play as a hacker who has arrang...  ...   \n",
              "\n",
              "  Average playtime two weeks Median playtime forever  \\\n",
              "0                          0                       0   \n",
              "1                          0                       0   \n",
              "2                          0                       0   \n",
              "3                          0                       0   \n",
              "4                          0                       0   \n",
              "\n",
              "  Median playtime two weeks             Developers             Publishers  \\\n",
              "0                         0  Perpetual FX Creative  Perpetual FX Creative   \n",
              "1                         0           Rusty Moyher           Wild Rooster   \n",
              "2                         0          Campião Games          Campião Games   \n",
              "3                         0      Odd Critter Games      Odd Critter Games   \n",
              "4                         0          Unusual Games          Unusual Games   \n",
              "\n",
              "                                          Categories  \\\n",
              "0  Single-player,Multi-player,Steam Achievements,...   \n",
              "1  Single-player,Steam Achievements,Full controll...   \n",
              "2                                      Single-player   \n",
              "3              Single-player,Full controller support   \n",
              "4                   Single-player,Steam Achievements   \n",
              "\n",
              "                            Genres  \\\n",
              "0              Casual,Indie,Sports   \n",
              "1                     Action,Indie   \n",
              "2  Action,Adventure,Indie,Strategy   \n",
              "3           Adventure,Casual,Indie   \n",
              "4                  Adventure,Indie   \n",
              "\n",
              "                                                Tags  \\\n",
              "0                        Indie,Casual,Sports,Bowling   \n",
              "1  Indie,Action,Pixel Graphics,2D,Retro,Arcade,Sc...   \n",
              "2                                                NaN   \n",
              "3  2D Platformer,Atmospheric,Surreal,Mystery,Puzz...   \n",
              "4  Indie,Adventure,Nudity,Violent,Sexual Content,...   \n",
              "\n",
              "                                         Screenshots  \\\n",
              "0  https://cdn.akamai.steamstatic.com/steam/apps/...   \n",
              "1  https://cdn.akamai.steamstatic.com/steam/apps/...   \n",
              "2  https://cdn.akamai.steamstatic.com/steam/apps/...   \n",
              "3  https://cdn.akamai.steamstatic.com/steam/apps/...   \n",
              "4  https://cdn.akamai.steamstatic.com/steam/apps/...   \n",
              "\n",
              "                                              Movies  \n",
              "0  http://cdn.akamai.steamstatic.com/steam/apps/2...  \n",
              "1  http://cdn.akamai.steamstatic.com/steam/apps/2...  \n",
              "2  http://cdn.akamai.steamstatic.com/steam/apps/2...  \n",
              "3  http://cdn.akamai.steamstatic.com/steam/apps/2...  \n",
              "4  http://cdn.akamai.steamstatic.com/steam/apps/2...  \n",
              "\n",
              "[5 rows x 40 columns]"
            ]
          },
          "execution_count": 12,
          "metadata": {},
          "output_type": "execute_result"
        }
      ],
      "source": [
        "\n",
        "df = pd.read_csv(\"games.csv\",sep=\",\",quotechar='\"',encoding=\"utf-8-sig\",lineterminator=\"\\n\",index_col=False)  # ajuste o caminho se necessário\n",
        "df.head()\n"
      ]
    },
    {
      "cell_type": "markdown",
      "id": "df98ac80",
      "metadata": {
        "id": "df98ac80"
      },
      "source": [
        "## 3. Criar variável alvo"
      ]
    },
    {
      "cell_type": "code",
      "execution_count": null,
      "id": "fc7a236c",
      "metadata": {
        "id": "fc7a236c",
        "outputId": "625866e1-2b19-44aa-95ba-39f2680e2d81"
      },
      "outputs": [
        {
          "name": "stdout",
          "output_type": "stream",
          "text": [
            "Distribuição das classes:\n",
            " target\n",
            "1    0.651694\n",
            "0    0.348306\n",
            "Name: proportion, dtype: float64\n"
          ]
        },
        {
          "data": {
            "image/png": "[encoded data removed]",
            "text/plain": [
              "<Figure size 640x480 with 1 Axes>"
            ]
          },
          "metadata": {},
          "output_type": "display_data"
        }
      ],
      "source": [
        "\n",
        "df = df.dropna(subset=[\"Positive\", \"Negative\"])\n",
        "df[\"total_reviews\"] = df[\"Positive\"] + df[\"Negative\"]\n",
        "df = df[df[\"total_reviews\"] > 50]\n",
        "\n",
        "df[\"review_ratio\"] = df[\"Positive\"] / df[\"total_reviews\"]\n",
        "df[\"target\"] = (df[\"review_ratio\"] >= 0.75).astype(int)\n",
        "\n",
        "print(\"Distribuição das classes:\\n\", df[\"target\"].value_counts(normalize=True))\n",
        "sns.countplot(x=df[\"target\"])\n",
        "plt.title(\"Distribuição de jogos bem x mal avaliados\")\n",
        "plt.show()\n"
      ]
    },
    {
      "cell_type": "markdown",
      "id": "322f32f6",
      "metadata": {
        "id": "322f32f6"
      },
      "source": [
        "## 4. Seleção de features"
      ]
    },
    {
      "cell_type": "code",
      "execution_count": null,
      "id": "4012f1e4",
      "metadata": {
        "id": "4012f1e4"
      },
      "outputs": [],
      "source": [
        "\n",
        "features_num = [\"Price\", \"total_reviews\", \"Average playtime forever\", \"Peak CCU\"]\n",
        "features_cat = [\"Genres\"]\n",
        "\n",
        "for col in features_num:\n",
        "    df[col] = df[col].fillna(0)\n",
        "\n",
        "for col in features_cat:\n",
        "    df[col] = df[col].fillna(\"Unknown\")\n",
        "\n",
        "X = df[features_num + features_cat]\n",
        "y = df[\"target\"]\n"
      ]
    },
    {
      "cell_type": "markdown",
      "id": "9f03d7e9",
      "metadata": {
        "id": "9f03d7e9"
      },
      "source": [
        "## 5. Divisão em treino e teste"
      ]
    },
    {
      "cell_type": "code",
      "execution_count": null,
      "id": "ee69d356",
      "metadata": {
        "id": "ee69d356",
        "outputId": "323844a1-90cf-407b-bb4c-55ee8947fe68"
      },
      "outputs": [
        {
          "name": "stdout",
          "output_type": "stream",
          "text": [
            "Train: (19929, 5) Test: (4983, 5)\n"
          ]
        }
      ],
      "source": [
        "\n",
        "X_train, X_test, y_train, y_test = train_test_split(\n",
        "    X, y, test_size=0.2, stratify=y, random_state=42\n",
        ")\n",
        "\n",
        "print(\"Train:\", X_train.shape, \"Test:\", X_test.shape)\n"
      ]
    },
    {
      "cell_type": "markdown",
      "id": "c25d29dc",
      "metadata": {
        "id": "c25d29dc"
      },
      "source": [
        "## 6. Pré-processamento"
      ]
    },
    {
      "cell_type": "code",
      "execution_count": null,
      "id": "7727ffbc",
      "metadata": {
        "id": "7727ffbc"
      },
      "outputs": [],
      "source": [
        "\n",
        "preprocessor = ColumnTransformer(\n",
        "    transformers=[\n",
        "        (\"num\", StandardScaler(), features_num),\n",
        "        (\"cat\", OneHotEncoder(handle_unknown=\"ignore\"), features_cat)\n",
        "    ]\n",
        ")\n"
      ]
    },
    {
      "cell_type": "markdown",
      "id": "3f5db40d",
      "metadata": {
        "id": "3f5db40d"
      },
      "source": [
        "## 7. Treinamento de modelos"
      ]
    },
    {
      "cell_type": "code",
      "execution_count": null,
      "id": "7f7d512b",
      "metadata": {
        "id": "7f7d512b",
        "outputId": "2eac39d4-1f3e-4620-fafe-18a211bfe50b"
      },
      "outputs": [
        {
          "name": "stdout",
          "output_type": "stream",
          "text": [
            "\n",
            "=== Logistic ===\n",
            "              precision    recall  f1-score   support\n",
            "\n",
            "           0       0.59      0.17      0.26      1736\n",
            "           1       0.68      0.94      0.79      3247\n",
            "\n",
            "    accuracy                           0.67      4983\n",
            "   macro avg       0.63      0.55      0.52      4983\n",
            "weighted avg       0.65      0.67      0.60      4983\n",
            "\n"
          ]
        },
        {
          "data": {
            "image/png": "[encoded data removed]",
            "text/plain": [
              "<Figure size 640x480 with 2 Axes>"
            ]
          },
          "metadata": {},
          "output_type": "display_data"
        },
        {
          "name": "stdout",
          "output_type": "stream",
          "text": [
            "ROC-AUC: 0.64620700923504\n",
            "\n",
            "=== RandomForest ===\n",
            "              precision    recall  f1-score   support\n",
            "\n",
            "           0       0.56      0.41      0.48      1736\n",
            "           1       0.73      0.83      0.77      3247\n",
            "\n",
            "    accuracy                           0.68      4983\n",
            "   macro avg       0.64      0.62      0.62      4983\n",
            "weighted avg       0.67      0.68      0.67      4983\n",
            "\n"
          ]
        },
        {
          "data": {
            "image/png": "[encoded data removed]",
            "text/plain": [
              "<Figure size 640x480 with 2 Axes>"
            ]
          },
          "metadata": {},
          "output_type": "display_data"
        },
        {
          "name": "stdout",
          "output_type": "stream",
          "text": [
            "ROC-AUC: 0.7028316815663945\n"
          ]
        },
        {
          "name": "stderr",
          "output_type": "stream",
          "text": [
            "c:\\Users\\annas\\anaconda3\\Lib\\site-packages\\xgboost\\training.py:183: UserWarning: [18:55:40] WARNING: C:\\actions-runner\\_work\\xgboost\\xgboost\\src\\learner.cc:738: \n",
            "Parameters: { \"use_label_encoder\" } are not used.\n",
            "\n",
            "  bst.update(dtrain, iteration=i, fobj=obj)\n"
          ]
        },
        {
          "name": "stdout",
          "output_type": "stream",
          "text": [
            "\n",
            "=== XGBoost ===\n",
            "              precision    recall  f1-score   support\n",
            "\n",
            "           0       0.61      0.41      0.49      1736\n",
            "           1       0.73      0.86      0.79      3247\n",
            "\n",
            "    accuracy                           0.70      4983\n",
            "   macro avg       0.67      0.64      0.64      4983\n",
            "weighted avg       0.69      0.70      0.69      4983\n",
            "\n"
          ]
        },
        {
          "data": {
            "image/png": "[encoded data removed]",
            "text/plain": [
              "<Figure size 640x480 with 2 Axes>"
            ]
          },
          "metadata": {},
          "output_type": "display_data"
        },
        {
          "name": "stdout",
          "output_type": "stream",
          "text": [
            "ROC-AUC: 0.7262246859561254\n"
          ]
        }
      ],
      "source": [
        "\n",
        "models = {\n",
        "    \"Logistic\": LogisticRegression(max_iter=1000),\n",
        "    \"RandomForest\": RandomForestClassifier(n_estimators=200, random_state=42),\n",
        "    \"XGBoost\": XGBClassifier(eval_metric=\"logloss\", use_label_encoder=False, random_state=42)\n",
        "}\n",
        "\n",
        "for name, model in models.items():\n",
        "    pipe = Pipeline(steps=[(\"preprocessor\", preprocessor), (\"classifier\", model)])\n",
        "    pipe.fit(X_train, y_train)\n",
        "    y_pred = pipe.predict(X_test)\n",
        "\n",
        "    print(f\"\\n=== {name} ===\")\n",
        "    print(classification_report(y_test, y_pred))\n",
        "\n",
        "    cm = confusion_matrix(y_test, y_pred)\n",
        "    disp = ConfusionMatrixDisplay(confusion_matrix=cm, display_labels=[\"Ruim\", \"Bom\"])\n",
        "    disp.plot(cmap=plt.cm.Blues)\n",
        "    plt.title(f\"Matriz de confusão - {name}\")\n",
        "    plt.show()\n",
        "\n",
        "    if hasattr(pipe, \"predict_proba\"):\n",
        "        y_proba = pipe.predict_proba(X_test)[:, 1]\n",
        "        auc = roc_auc_score(y_test, y_proba)\n",
        "        print(\"ROC-AUC:\", auc)\n"
      ]
    },
    {
      "cell_type": "markdown",
      "id": "cb397f1f",
      "metadata": {
        "id": "cb397f1f"
      },
      "source": [
        "## 8. Otimização de hiperparâmetros (exemplo com XGBoost)"
      ]
    },
    {
      "cell_type": "code",
      "execution_count": null,
      "id": "c3797ec3",
      "metadata": {
        "id": "c3797ec3",
        "outputId": "e3780b4a-4786-46b2-bd49-219bb5e0aac8"
      },
      "outputs": [
        {
          "name": "stdout",
          "output_type": "stream",
          "text": [
            "Melhores parâmetros: {'classifier__learning_rate': 0.1, 'classifier__max_depth': 3, 'classifier__n_estimators': 200}\n",
            "Melhor score CV (f1): 0.7931740401925618\n"
          ]
        }
      ],
      "source": [
        "\n",
        "param_grid = {\n",
        "    \"classifier__n_estimators\": [100, 200],\n",
        "    \"classifier__max_depth\": [3, 5, 7],\n",
        "    \"classifier__learning_rate\": [0.01, 0.1, 0.3]\n",
        "}\n",
        "\n",
        "xgb_pipe = Pipeline(steps=[(\"preprocessor\", preprocessor), (\"classifier\", XGBClassifier(eval_metric=\"logloss\"))])\n",
        "\n",
        "grid = GridSearchCV(xgb_pipe, param_grid, cv=3, scoring=\"f1\", n_jobs=-1)\n",
        "grid.fit(X_train, y_train)\n",
        "\n",
        "print(\"Melhores parâmetros:\", grid.best_params_)\n",
        "print(\"Melhor score CV (f1):\", grid.best_score_)\n"
      ]
    }
  ],
  "metadata": {
    "kernelspec": {
      "display_name": "base",
      "language": "python",
      "name": "python3"
    },
    "language_info": {
      "codemirror_mode": {
        "name": "ipython",
        "version": 3
      },
      "file_extension": ".py",
      "mimetype": "text/x-python",
      "name": "python",
      "nbconvert_exporter": "python",
      "pygments_lexer": "ipython3",
      "version": "3.12.7"
    },
    "colab": {
      "provenance": [],
      "include_colab_link": true
    }
  },
  "nbformat": 4,
  "nbformat_minor": 5
}