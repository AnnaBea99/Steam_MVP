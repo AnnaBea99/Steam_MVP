{
  "cells": [
    {
      "cell_type": "markdown",
      "metadata": {
        "id": "view-in-github",
        "colab_type": "text"
      },
      "source": [
        "<a href=\"https://colab.research.google.com/github/AnnaBea99/Steam_MVP/blob/main/steam_games_classificacao_mvp.ipynb\" target=\"_parent\"><img src=\"https://colab.research.google.com/assets/colab-badge.svg\" alt=\"Open In Colab\"/></a>"
      ]
    },
    {
      "cell_type": "markdown",
      "id": "74b7825e",
      "metadata": {
        "id": "74b7825e"
      },
      "source": [
        "# MVP - Classificação de Jogos Bem Avaliados no Steam\n",
        "\n",
        "**Autor:** _ANNA BEATRIZ DA CRUZ COSTA_  \n",
        "\n",
        "**Data:** 20/09/2025\n",
        "\n",
        "**Matrícula:** 4052025001382\n",
        "\n",
        "**Dataset:** Ex: [Steam Games](https://huggingface.co/datasets/FronkonGames/steam-games-dataset/discussions?status=open&sort=recently-created)\n",
        "\n",
        "Este notebook treina modelos de Machine Learning para prever se um jogo será **bem avaliado** no Steam com base em atributos como preço, número de reviews, tempo de jogo e gêneros."
      ]
    },
    {
      "cell_type": "markdown",
      "metadata": {
        "id": "a670b1e8"
      },
      "source": [
        "\n",
        "## 1. Escopo, objetivo e definição do problema\n",
        "\n",
        "Este trabalho tem como objetivo prever se um jogo será considerado bem avaliado na plataforma Steam, utilizando aprendizado supervisionado de Machine Learning, utilizando classificação. Para isso, foi utilizado o dataset público 'Steam Games Dataset', disponível na plataforma Hugging Face. O problema é tratado como uma classificação binária: um jogo é rotulado como 'bem avaliado' se possuir ao menos 75% de avaliações positivas, considerando um mínimo de 50 reviews. Possui o valor para empresas verem quais os gêneros de jogos bem avaliados e como preço, opiniões de usuários influenciam na nota a ser dada.\n"
      ],
      "id": "a670b1e8"
    },
    {
      "cell_type": "markdown",
      "source": [
        "## 2. Reprodutibilidade e ambiente"
      ],
      "metadata": {
        "id": "0nfZ1M5BW1uV"
      },
      "id": "0nfZ1M5BW1uV"
    },
    {
      "cell_type": "code",
      "execution_count": null,
      "id": "fbccbcd9",
      "metadata": {
        "id": "fbccbcd9"
      },
      "outputs": [],
      "source": [
        "\n",
        "import pandas as pd\n",
        "import numpy as np\n",
        "import matplotlib.pyplot as plt\n",
        "import seaborn as sns\n",
        "\n",
        "from sklearn.model_selection import train_test_split, GridSearchCV\n",
        "from sklearn.preprocessing import StandardScaler, OneHotEncoder\n",
        "from sklearn.compose import ColumnTransformer\n",
        "from sklearn.pipeline import Pipeline\n",
        "from sklearn.metrics import classification_report, confusion_matrix, ConfusionMatrixDisplay, roc_auc_score\n",
        "from sklearn.linear_model import LogisticRegression\n",
        "from sklearn.ensemble import RandomForestClassifier\n",
        "from xgboost import XGBClassifier\n"
      ]
    },
    {
      "cell_type": "markdown",
      "id": "55ff3994",
      "metadata": {
        "id": "55ff3994"
      },
      "source": [
        "## 3. Dados: carga, entendimento e qualidade\n",
        "\n",
        "Os dados foram tirados de um csv que contém diversas informações sobre um jogo, desde a sua descrição até notas. Todas as informações são públicas para serem consultadas."
      ]
    },
    {
      "cell_type": "code",
      "execution_count": null,
      "id": "e7722d5a",
      "metadata": {
        "id": "e7722d5a",
        "outputId": "38c236d9-4901-4af8-ee4b-58b9b9d5b2e8",
        "colab": {
          "base_uri": "https://localhost:8080/",
          "height": 672
        }
      },
      "outputs": [
        {
          "output_type": "execute_result",
          "data": {
            "text/plain": [
              "     AppID                   Name  Release date Estimated owners  Peak CCU  \\\n",
              "0    20200       Galactic Bowling  Oct 21, 2008        0 - 20000         0   \n",
              "1   655370           Train Bandit  Oct 12, 2017        0 - 20000         0   \n",
              "2  1732930           Jolt Project  Nov 17, 2021        0 - 20000         0   \n",
              "3  1355720               Henosis™  Jul 23, 2020        0 - 20000         0   \n",
              "4  1139950  Two Weeks in Painland   Feb 3, 2020        0 - 20000         0   \n",
              "\n",
              "   Required age  Price  DiscountDLC count  num  \\\n",
              "0             0  19.99                  0    0   \n",
              "1             0   0.99                  0    0   \n",
              "2             0   4.99                  0    0   \n",
              "3             0   5.99                  0    0   \n",
              "4             0   0.00                  0    0   \n",
              "\n",
              "                                      About the game  ...  \\\n",
              "0  Galactic Bowling is an exaggerated and stylize...  ...   \n",
              "1  THE LAW!! Looks to be a showdown atop a train....  ...   \n",
              "2  Jolt Project: The army now has a new robotics ...  ...   \n",
              "3  HENOSIS™ is a mysterious 2D Platform Puzzler w...  ...   \n",
              "4  ABOUT THE GAME Play as a hacker who has arrang...  ...   \n",
              "\n",
              "  Average playtime two weeks Median playtime forever  \\\n",
              "0                          0                       0   \n",
              "1                          0                       0   \n",
              "2                          0                       0   \n",
              "3                          0                       0   \n",
              "4                          0                       0   \n",
              "\n",
              "  Median playtime two weeks             Developers             Publishers  \\\n",
              "0                         0  Perpetual FX Creative  Perpetual FX Creative   \n",
              "1                         0           Rusty Moyher           Wild Rooster   \n",
              "2                         0          Campião Games          Campião Games   \n",
              "3                         0      Odd Critter Games      Odd Critter Games   \n",
              "4                         0          Unusual Games          Unusual Games   \n",
              "\n",
              "                                          Categories  \\\n",
              "0  Single-player,Multi-player,Steam Achievements,...   \n",
              "1  Single-player,Steam Achievements,Full controll...   \n",
              "2                                      Single-player   \n",
              "3              Single-player,Full controller support   \n",
              "4                   Single-player,Steam Achievements   \n",
              "\n",
              "                            Genres  \\\n",
              "0              Casual,Indie,Sports   \n",
              "1                     Action,Indie   \n",
              "2  Action,Adventure,Indie,Strategy   \n",
              "3           Adventure,Casual,Indie   \n",
              "4                  Adventure,Indie   \n",
              "\n",
              "                                                Tags  \\\n",
              "0                        Indie,Casual,Sports,Bowling   \n",
              "1  Indie,Action,Pixel Graphics,2D,Retro,Arcade,Sc...   \n",
              "2                                                NaN   \n",
              "3  2D Platformer,Atmospheric,Surreal,Mystery,Puzz...   \n",
              "4  Indie,Adventure,Nudity,Violent,Sexual Content,...   \n",
              "\n",
              "                                         Screenshots  \\\n",
              "0  https://cdn.akamai.steamstatic.com/steam/apps/...   \n",
              "1  https://cdn.akamai.steamstatic.com/steam/apps/...   \n",
              "2  https://cdn.akamai.steamstatic.com/steam/apps/...   \n",
              "3  https://cdn.akamai.steamstatic.com/steam/apps/...   \n",
              "4  https://cdn.akamai.steamstatic.com/steam/apps/...   \n",
              "\n",
              "                                              Movies  \n",
              "0  http://cdn.akamai.steamstatic.com/steam/apps/2...  \n",
              "1  http://cdn.akamai.steamstatic.com/steam/apps/2...  \n",
              "2  http://cdn.akamai.steamstatic.com/steam/apps/2...  \n",
              "3  http://cdn.akamai.steamstatic.com/steam/apps/2...  \n",
              "4  http://cdn.akamai.steamstatic.com/steam/apps/2...  \n",
              "\n",
              "[5 rows x 40 columns]"
            ],
            "text/html": [
              "\n",
              "  <div id=\"df-ad6f8359-ec12-446d-b0e0-a5b39f940748\" class=\"colab-df-container\">\n",
              "    <div>\n",
              "<style scoped>\n",
              "    .dataframe tbody tr th:only-of-type {\n",
              "        vertical-align: middle;\n",
              "    }\n",
              "\n",
              "    .dataframe tbody tr th {\n",
              "        vertical-align: top;\n",
              "    }\n",
              "\n",
              "    .dataframe thead th {\n",
              "        text-align: right;\n",
              "    }\n",
              "</style>\n",
              "<table border=\"1\" class=\"dataframe\">\n",
              "  <thead>\n",
              "    <tr style=\"text-align: right;\">\n",
              "      <th></th>\n",
              "      <th>AppID</th>\n",
              "      <th>Name</th>\n",
              "      <th>Release date</th>\n",
              "      <th>Estimated owners</th>\n",
              "      <th>Peak CCU</th>\n",
              "      <th>Required age</th>\n",
              "      <th>Price</th>\n",
              "      <th>DiscountDLC count</th>\n",
              "      <th>num</th>\n",
              "      <th>About the game</th>\n",
              "      <th>...</th>\n",
              "      <th>Average playtime two weeks</th>\n",
              "      <th>Median playtime forever</th>\n",
              "      <th>Median playtime two weeks</th>\n",
              "      <th>Developers</th>\n",
              "      <th>Publishers</th>\n",
              "      <th>Categories</th>\n",
              "      <th>Genres</th>\n",
              "      <th>Tags</th>\n",
              "      <th>Screenshots</th>\n",
              "      <th>Movies</th>\n",
              "    </tr>\n",
              "  </thead>\n",
              "  <tbody>\n",
              "    <tr>\n",
              "      <th>0</th>\n",
              "      <td>20200</td>\n",
              "      <td>Galactic Bowling</td>\n",
              "      <td>Oct 21, 2008</td>\n",
              "      <td>0 - 20000</td>\n",
              "      <td>0</td>\n",
              "      <td>0</td>\n",
              "      <td>19.99</td>\n",
              "      <td>0</td>\n",
              "      <td>0</td>\n",
              "      <td>Galactic Bowling is an exaggerated and stylize...</td>\n",
              "      <td>...</td>\n",
              "      <td>0</td>\n",
              "      <td>0</td>\n",
              "      <td>0</td>\n",
              "      <td>Perpetual FX Creative</td>\n",
              "      <td>Perpetual FX Creative</td>\n",
              "      <td>Single-player,Multi-player,Steam Achievements,...</td>\n",
              "      <td>Casual,Indie,Sports</td>\n",
              "      <td>Indie,Casual,Sports,Bowling</td>\n",
              "      <td>https://cdn.akamai.steamstatic.com/steam/apps/...</td>\n",
              "      <td>http://cdn.akamai.steamstatic.com/steam/apps/2...</td>\n",
              "    </tr>\n",
              "    <tr>\n",
              "      <th>1</th>\n",
              "      <td>655370</td>\n",
              "      <td>Train Bandit</td>\n",
              "      <td>Oct 12, 2017</td>\n",
              "      <td>0 - 20000</td>\n",
              "      <td>0</td>\n",
              "      <td>0</td>\n",
              "      <td>0.99</td>\n",
              "      <td>0</td>\n",
              "      <td>0</td>\n",
              "      <td>THE LAW!! Looks to be a showdown atop a train....</td>\n",
              "      <td>...</td>\n",
              "      <td>0</td>\n",
              "      <td>0</td>\n",
              "      <td>0</td>\n",
              "      <td>Rusty Moyher</td>\n",
              "      <td>Wild Rooster</td>\n",
              "      <td>Single-player,Steam Achievements,Full controll...</td>\n",
              "      <td>Action,Indie</td>\n",
              "      <td>Indie,Action,Pixel Graphics,2D,Retro,Arcade,Sc...</td>\n",
              "      <td>https://cdn.akamai.steamstatic.com/steam/apps/...</td>\n",
              "      <td>http://cdn.akamai.steamstatic.com/steam/apps/2...</td>\n",
              "    </tr>\n",
              "    <tr>\n",
              "      <th>2</th>\n",
              "      <td>1732930</td>\n",
              "      <td>Jolt Project</td>\n",
              "      <td>Nov 17, 2021</td>\n",
              "      <td>0 - 20000</td>\n",
              "      <td>0</td>\n",
              "      <td>0</td>\n",
              "      <td>4.99</td>\n",
              "      <td>0</td>\n",
              "      <td>0</td>\n",
              "      <td>Jolt Project: The army now has a new robotics ...</td>\n",
              "      <td>...</td>\n",
              "      <td>0</td>\n",
              "      <td>0</td>\n",
              "      <td>0</td>\n",
              "      <td>Campião Games</td>\n",
              "      <td>Campião Games</td>\n",
              "      <td>Single-player</td>\n",
              "      <td>Action,Adventure,Indie,Strategy</td>\n",
              "      <td>NaN</td>\n",
              "      <td>https://cdn.akamai.steamstatic.com/steam/apps/...</td>\n",
              "      <td>http://cdn.akamai.steamstatic.com/steam/apps/2...</td>\n",
              "    </tr>\n",
              "    <tr>\n",
              "      <th>3</th>\n",
              "      <td>1355720</td>\n",
              "      <td>Henosis™</td>\n",
              "      <td>Jul 23, 2020</td>\n",
              "      <td>0 - 20000</td>\n",
              "      <td>0</td>\n",
              "      <td>0</td>\n",
              "      <td>5.99</td>\n",
              "      <td>0</td>\n",
              "      <td>0</td>\n",
              "      <td>HENOSIS™ is a mysterious 2D Platform Puzzler w...</td>\n",
              "      <td>...</td>\n",
              "      <td>0</td>\n",
              "      <td>0</td>\n",
              "      <td>0</td>\n",
              "      <td>Odd Critter Games</td>\n",
              "      <td>Odd Critter Games</td>\n",
              "      <td>Single-player,Full controller support</td>\n",
              "      <td>Adventure,Casual,Indie</td>\n",
              "      <td>2D Platformer,Atmospheric,Surreal,Mystery,Puzz...</td>\n",
              "      <td>https://cdn.akamai.steamstatic.com/steam/apps/...</td>\n",
              "      <td>http://cdn.akamai.steamstatic.com/steam/apps/2...</td>\n",
              "    </tr>\n",
              "    <tr>\n",
              "      <th>4</th>\n",
              "      <td>1139950</td>\n",
              "      <td>Two Weeks in Painland</td>\n",
              "      <td>Feb 3, 2020</td>\n",
              "      <td>0 - 20000</td>\n",
              "      <td>0</td>\n",
              "      <td>0</td>\n",
              "      <td>0.00</td>\n",
              "      <td>0</td>\n",
              "      <td>0</td>\n",
              "      <td>ABOUT THE GAME Play as a hacker who has arrang...</td>\n",
              "      <td>...</td>\n",
              "      <td>0</td>\n",
              "      <td>0</td>\n",
              "      <td>0</td>\n",
              "      <td>Unusual Games</td>\n",
              "      <td>Unusual Games</td>\n",
              "      <td>Single-player,Steam Achievements</td>\n",
              "      <td>Adventure,Indie</td>\n",
              "      <td>Indie,Adventure,Nudity,Violent,Sexual Content,...</td>\n",
              "      <td>https://cdn.akamai.steamstatic.com/steam/apps/...</td>\n",
              "      <td>http://cdn.akamai.steamstatic.com/steam/apps/2...</td>\n",
              "    </tr>\n",
              "  </tbody>\n",
              "</table>\n",
              "<p>5 rows × 40 columns</p>\n",
              "</div>\n",
              "    <div class=\"colab-df-buttons\">\n",
              "\n",
              "  <div class=\"colab-df-container\">\n",
              "    <button class=\"colab-df-convert\" onclick=\"convertToInteractive('df-ad6f8359-ec12-446d-b0e0-a5b39f940748')\"\n",
              "            title=\"Convert this dataframe to an interactive table.\"\n",
              "            style=\"display:none;\">\n",
              "\n",
              "  <svg xmlns=\"http://www.w3.org/2000/svg\" height=\"24px\" viewBox=\"0 -960 960 960\">\n",
              "    <path d=\"M120-120v-720h720v720H120Zm60-500h600v-160H180v160Zm220 220h160v-160H400v160Zm0 220h160v-160H400v160ZM180-400h160v-160H180v160Zm440 0h160v-160H620v160ZM180-180h160v-160H180v160Zm440 0h160v-160H620v160Z\"/>\n",
              "  </svg>\n",
              "    </button>\n",
              "\n",
              "  <style>\n",
              "    .colab-df-container {\n",
              "      display:flex;\n",
              "      gap: 12px;\n",
              "    }\n",
              "\n",
              "    .colab-df-convert {\n",
              "      background-color: #E8F0FE;\n",
              "      border: none;\n",
              "      border-radius: 50%;\n",
              "      cursor: pointer;\n",
              "      display: none;\n",
              "      fill: #1967D2;\n",
              "      height: 32px;\n",
              "      padding: 0 0 0 0;\n",
              "      width: 32px;\n",
              "    }\n",
              "\n",
              "    .colab-df-convert:hover {\n",
              "      background-color: #E2EBFA;\n",
              "      box-shadow: 0px 1px 2px rgba(60, 64, 67, 0.3), 0px 1px 3px 1px rgba(60, 64, 67, 0.15);\n",
              "      fill: #174EA6;\n",
              "    }\n",
              "\n",
              "    .colab-df-buttons div {\n",
              "      margin-bottom: 4px;\n",
              "    }\n",
              "\n",
              "    [theme=dark] .colab-df-convert {\n",
              "      background-color: #3B4455;\n",
              "      fill: #D2E3FC;\n",
              "    }\n",
              "\n",
              "    [theme=dark] .colab-df-convert:hover {\n",
              "      background-color: #434B5C;\n",
              "      box-shadow: 0px 1px 3px 1px rgba(0, 0, 0, 0.15);\n",
              "      filter: drop-shadow(0px 1px 2px rgba(0, 0, 0, 0.3));\n",
              "      fill: #FFFFFF;\n",
              "    }\n",
              "  </style>\n",
              "\n",
              "    <script>\n",
              "      const buttonEl =\n",
              "        document.querySelector('#df-ad6f8359-ec12-446d-b0e0-a5b39f940748 button.colab-df-convert');\n",
              "      buttonEl.style.display =\n",
              "        google.colab.kernel.accessAllowed ? 'block' : 'none';\n",
              "\n",
              "      async function convertToInteractive(key) {\n",
              "        const element = document.querySelector('#df-ad6f8359-ec12-446d-b0e0-a5b39f940748');\n",
              "        const dataTable =\n",
              "          await google.colab.kernel.invokeFunction('convertToInteractive',\n",
              "                                                    [key], {});\n",
              "        if (!dataTable) return;\n",
              "\n",
              "        const docLinkHtml = 'Like what you see? Visit the ' +\n",
              "          '<a target=\"_blank\" href=https://colab.research.google.com/notebooks/data_table.ipynb>data table notebook</a>'\n",
              "          + ' to learn more about interactive tables.';\n",
              "        element.innerHTML = '';\n",
              "        dataTable['output_type'] = 'display_data';\n",
              "        await google.colab.output.renderOutput(dataTable, element);\n",
              "        const docLink = document.createElement('div');\n",
              "        docLink.innerHTML = docLinkHtml;\n",
              "        element.appendChild(docLink);\n",
              "      }\n",
              "    </script>\n",
              "  </div>\n",
              "\n",
              "\n",
              "    <div id=\"df-d3228a21-9373-4817-9c4e-ec7e6445ed79\">\n",
              "      <button class=\"colab-df-quickchart\" onclick=\"quickchart('df-d3228a21-9373-4817-9c4e-ec7e6445ed79')\"\n",
              "                title=\"Suggest charts\"\n",
              "                style=\"display:none;\">\n",
              "\n",
              "<svg xmlns=\"http://www.w3.org/2000/svg\" height=\"24px\"viewBox=\"0 0 24 24\"\n",
              "     width=\"24px\">\n",
              "    <g>\n",
              "        <path d=\"M19 3H5c-1.1 0-2 .9-2 2v14c0 1.1.9 2 2 2h14c1.1 0 2-.9 2-2V5c0-1.1-.9-2-2-2zM9 17H7v-7h2v7zm4 0h-2V7h2v10zm4 0h-2v-4h2v4z\"/>\n",
              "    </g>\n",
              "</svg>\n",
              "      </button>\n",
              "\n",
              "<style>\n",
              "  .colab-df-quickchart {\n",
              "      --bg-color: #E8F0FE;\n",
              "      --fill-color: #1967D2;\n",
              "      --hover-bg-color: #E2EBFA;\n",
              "      --hover-fill-color: #174EA6;\n",
              "      --disabled-fill-color: #AAA;\n",
              "      --disabled-bg-color: #DDD;\n",
              "  }\n",
              "\n",
              "  [theme=dark] .colab-df-quickchart {\n",
              "      --bg-color: #3B4455;\n",
              "      --fill-color: #D2E3FC;\n",
              "      --hover-bg-color: #434B5C;\n",
              "      --hover-fill-color: #FFFFFF;\n",
              "      --disabled-bg-color: #3B4455;\n",
              "      --disabled-fill-color: #666;\n",
              "  }\n",
              "\n",
              "  .colab-df-quickchart {\n",
              "    background-color: var(--bg-color);\n",
              "    border: none;\n",
              "    border-radius: 50%;\n",
              "    cursor: pointer;\n",
              "    display: none;\n",
              "    fill: var(--fill-color);\n",
              "    height: 32px;\n",
              "    padding: 0;\n",
              "    width: 32px;\n",
              "  }\n",
              "\n",
              "  .colab-df-quickchart:hover {\n",
              "    background-color: var(--hover-bg-color);\n",
              "    box-shadow: 0 1px 2px rgba(60, 64, 67, 0.3), 0 1px 3px 1px rgba(60, 64, 67, 0.15);\n",
              "    fill: var(--button-hover-fill-color);\n",
              "  }\n",
              "\n",
              "  .colab-df-quickchart-complete:disabled,\n",
              "  .colab-df-quickchart-complete:disabled:hover {\n",
              "    background-color: var(--disabled-bg-color);\n",
              "    fill: var(--disabled-fill-color);\n",
              "    box-shadow: none;\n",
              "  }\n",
              "\n",
              "  .colab-df-spinner {\n",
              "    border: 2px solid var(--fill-color);\n",
              "    border-color: transparent;\n",
              "    border-bottom-color: var(--fill-color);\n",
              "    animation:\n",
              "      spin 1s steps(1) infinite;\n",
              "  }\n",
              "\n",
              "  @keyframes spin {\n",
              "    0% {\n",
              "      border-color: transparent;\n",
              "      border-bottom-color: var(--fill-color);\n",
              "      border-left-color: var(--fill-color);\n",
              "    }\n",
              "    20% {\n",
              "      border-color: transparent;\n",
              "      border-left-color: var(--fill-color);\n",
              "      border-top-color: var(--fill-color);\n",
              "    }\n",
              "    30% {\n",
              "      border-color: transparent;\n",
              "      border-left-color: var(--fill-color);\n",
              "      border-top-color: var(--fill-color);\n",
              "      border-right-color: var(--fill-color);\n",
              "    }\n",
              "    40% {\n",
              "      border-color: transparent;\n",
              "      border-right-color: var(--fill-color);\n",
              "      border-top-color: var(--fill-color);\n",
              "    }\n",
              "    60% {\n",
              "      border-color: transparent;\n",
              "      border-right-color: var(--fill-color);\n",
              "    }\n",
              "    80% {\n",
              "      border-color: transparent;\n",
              "      border-right-color: var(--fill-color);\n",
              "      border-bottom-color: var(--fill-color);\n",
              "    }\n",
              "    90% {\n",
              "      border-color: transparent;\n",
              "      border-bottom-color: var(--fill-color);\n",
              "    }\n",
              "  }\n",
              "</style>\n",
              "\n",
              "      <script>\n",
              "        async function quickchart(key) {\n",
              "          const quickchartButtonEl =\n",
              "            document.querySelector('#' + key + ' button');\n",
              "          quickchartButtonEl.disabled = true;  // To prevent multiple clicks.\n",
              "          quickchartButtonEl.classList.add('colab-df-spinner');\n",
              "          try {\n",
              "            const charts = await google.colab.kernel.invokeFunction(\n",
              "                'suggestCharts', [key], {});\n",
              "          } catch (error) {\n",
              "            console.error('Error during call to suggestCharts:', error);\n",
              "          }\n",
              "          quickchartButtonEl.classList.remove('colab-df-spinner');\n",
              "          quickchartButtonEl.classList.add('colab-df-quickchart-complete');\n",
              "        }\n",
              "        (() => {\n",
              "          let quickchartButtonEl =\n",
              "            document.querySelector('#df-d3228a21-9373-4817-9c4e-ec7e6445ed79 button');\n",
              "          quickchartButtonEl.style.display =\n",
              "            google.colab.kernel.accessAllowed ? 'block' : 'none';\n",
              "        })();\n",
              "      </script>\n",
              "    </div>\n",
              "\n",
              "    </div>\n",
              "  </div>\n"
            ],
            "application/vnd.google.colaboratory.intrinsic+json": {
              "type": "dataframe",
              "variable_name": "df"
            }
          },
          "metadata": {},
          "execution_count": 16
        }
      ],
      "source": [
        "\n",
        "arq = \"https://media.githubusercontent.com/media/AnnaBea99/Steam_MVP/refs/heads/main/games.csv\"\n",
        "df = pd.read_csv(arq,sep=\",\",quotechar='\"',encoding=\"utf-8-sig\",lineterminator=\"\\n\",index_col=False)\n",
        "df.head()\n"
      ]
    },
    {
      "cell_type": "markdown",
      "id": "df98ac80",
      "metadata": {
        "id": "df98ac80"
      },
      "source": [
        "## 4. Definição do target, variáveis e divisão dos dados\n",
        "\n",
        "Foram realizado a junção das avaliações positivas e negativas dos jogos para criar o total de reviews. Assim o target é criado com a classifcação se um jogo é bem avaliado para isso ele precisa ter pelo menos 75% de avaliações positivas, considerando no minimo de 50 avaliações."
      ]
    },
    {
      "cell_type": "code",
      "execution_count": null,
      "id": "fc7a236c",
      "metadata": {
        "id": "fc7a236c",
        "outputId": "a97935f3-24f0-4e65-c3fb-c640f23b543a",
        "colab": {
          "base_uri": "https://localhost:8080/",
          "height": 559
        }
      },
      "outputs": [
        {
          "output_type": "stream",
          "name": "stdout",
          "text": [
            "Distribuição das classes:\n",
            " target\n",
            "1    0.651694\n",
            "0    0.348306\n",
            "Name: proportion, dtype: float64\n"
          ]
        },
        {
          "output_type": "display_data",
          "data": {
            "text/plain": [
              "<Figure size 640x480 with 1 Axes>"
            ],
            "image/png": "[encoded data removed]"
          },
          "metadata": {}
        }
      ],
      "source": [
        "\n",
        "df = df.dropna(subset=[\"Positive\", \"Negative\"])\n",
        "df[\"total_reviews\"] = df[\"Positive\"] + df[\"Negative\"]\n",
        "df = df[df[\"total_reviews\"] > 50]\n",
        "\n",
        "df[\"review_ratio\"] = df[\"Positive\"] / df[\"total_reviews\"]\n",
        "df[\"target\"] = (df[\"review_ratio\"] >= 0.75).astype(int)\n",
        "\n",
        "print(\"Distribuição das classes:\\n\", df[\"target\"].value_counts(normalize=True))\n",
        "sns.countplot(x=df[\"target\"])\n",
        "plt.title(\"Distribuição de jogos bem x mal avaliados\")\n",
        "plt.show()\n"
      ]
    },
    {
      "cell_type": "markdown",
      "id": "322f32f6",
      "metadata": {
        "id": "322f32f6"
      },
      "source": [
        "## 5. Seleção de features\n",
        "\n"
      ]
    },
    {
      "cell_type": "code",
      "execution_count": null,
      "id": "4012f1e4",
      "metadata": {
        "id": "4012f1e4"
      },
      "outputs": [],
      "source": [
        "\n",
        "features_num = [\"Price\", \"total_reviews\", \"Average playtime forever\", \"Peak CCU\"]\n",
        "features_cat = [\"Genres\"]\n",
        "\n",
        "for col in features_num:\n",
        "    df[col] = df[col].fillna(0)\n",
        "\n",
        "for col in features_cat:\n",
        "    df[col] = df[col].fillna(\"Unknown\")\n",
        "\n",
        "X = df[features_num + features_cat]\n",
        "y = df[\"target\"]\n"
      ]
    },
    {
      "cell_type": "markdown",
      "id": "9f03d7e9",
      "metadata": {
        "id": "9f03d7e9"
      },
      "source": [
        "## 6. Divisão em treino e teste"
      ]
    },
    {
      "cell_type": "code",
      "execution_count": null,
      "id": "ee69d356",
      "metadata": {
        "id": "ee69d356",
        "outputId": "de4af872-331c-48bd-dfef-18c0a77d42ad",
        "colab": {
          "base_uri": "https://localhost:8080/"
        }
      },
      "outputs": [
        {
          "output_type": "stream",
          "name": "stdout",
          "text": [
            "Train: (19929, 5) Test: (4983, 5)\n"
          ]
        }
      ],
      "source": [
        "\n",
        "X_train, X_test, y_train, y_test = train_test_split(\n",
        "    X, y, test_size=0.2, stratify=y, random_state=42\n",
        ")\n",
        "\n",
        "print(\"Train:\", X_train.shape, \"Test:\", X_test.shape)\n"
      ]
    },
    {
      "cell_type": "markdown",
      "id": "c25d29dc",
      "metadata": {
        "id": "c25d29dc"
      },
      "source": [
        "## 7. Pré-processamento\n",
        "\n",
        "Foi usado o ColumnTransformer para aplicar diferentes transaformações para colunas numéricas e categóricas: StandardScaler para numéricas e OneHotEncoder para categóricas. Em seguida encapsulamos tudo em um Pipeline junto com o classificador."
      ]
    },
    {
      "cell_type": "code",
      "execution_count": null,
      "id": "7727ffbc",
      "metadata": {
        "id": "7727ffbc"
      },
      "outputs": [],
      "source": [
        "\n",
        "preprocessor = ColumnTransformer(\n",
        "    transformers=[\n",
        "        (\"num\", StandardScaler(), features_num),\n",
        "        (\"cat\", OneHotEncoder(handle_unknown=\"ignore\"), features_cat)\n",
        "    ]\n",
        ")\n"
      ]
    },
    {
      "cell_type": "markdown",
      "id": "3f5db40d",
      "metadata": {
        "id": "3f5db40d"
      },
      "source": [
        "## 8. Treinamento de modelos\n",
        "\n",
        "Cada modelo tem vantagens: Logistic Regression proporciona coeficientes interpretáveis; Random Forest dá feature importance; XGBoost frequentemente entrega melhor performance com tuning."
      ]
    },
    {
      "cell_type": "code",
      "execution_count": null,
      "id": "7f7d512b",
      "metadata": {
        "id": "7f7d512b",
        "outputId": "a5846fac-bfc8-416d-81e2-982db0e315a4",
        "colab": {
          "base_uri": "https://localhost:8080/",
          "height": 1000
        }
      },
      "outputs": [
        {
          "output_type": "stream",
          "name": "stdout",
          "text": [
            "\n",
            "=== Logistic ===\n",
            "              precision    recall  f1-score   support\n",
            "\n",
            "           0       0.59      0.17      0.26      1736\n",
            "           1       0.68      0.94      0.79      3247\n",
            "\n",
            "    accuracy                           0.67      4983\n",
            "   macro avg       0.63      0.55      0.52      4983\n",
            "weighted avg       0.65      0.67      0.60      4983\n",
            "\n"
          ]
        },
        {
          "output_type": "display_data",
          "data": {
            "text/plain": [
              "<Figure size 640x480 with 2 Axes>"
            ],
            "image/png": "[encoded data removed]"
          },
          "metadata": {}
        },
        {
          "output_type": "stream",
          "name": "stdout",
          "text": [
            "ROC-AUC: 0.64620700923504\n",
            "\n",
            "=== RandomForest ===\n",
            "              precision    recall  f1-score   support\n",
            "\n",
            "           0       0.56      0.41      0.48      1736\n",
            "           1       0.73      0.83      0.77      3247\n",
            "\n",
            "    accuracy                           0.68      4983\n",
            "   macro avg       0.64      0.62      0.62      4983\n",
            "weighted avg       0.67      0.68      0.67      4983\n",
            "\n"
          ]
        },
        {
          "output_type": "display_data",
          "data": {
            "text/plain": [
              "<Figure size 640x480 with 2 Axes>"
            ],
            "image/png": "[encoded data removed]"
          },
          "metadata": {}
        },
        {
          "output_type": "stream",
          "name": "stdout",
          "text": [
            "ROC-AUC: 0.7028316815663945\n"
          ]
        },
        {
          "output_type": "stream",
          "name": "stderr",
          "text": [
            "/usr/local/lib/python3.12/dist-packages/xgboost/training.py:183: UserWarning: [17:58:47] WARNING: /workspace/src/learner.cc:738: \n",
            "Parameters: { \"use_label_encoder\" } are not used.\n",
            "\n",
            "  bst.update(dtrain, iteration=i, fobj=obj)\n"
          ]
        },
        {
          "output_type": "stream",
          "name": "stdout",
          "text": [
            "\n",
            "=== XGBoost ===\n",
            "              precision    recall  f1-score   support\n",
            "\n",
            "           0       0.61      0.41      0.49      1736\n",
            "           1       0.73      0.86      0.79      3247\n",
            "\n",
            "    accuracy                           0.70      4983\n",
            "   macro avg       0.67      0.64      0.64      4983\n",
            "weighted avg       0.69      0.70      0.69      4983\n",
            "\n"
          ]
        },
        {
          "output_type": "display_data",
          "data": {
            "text/plain": [
              "<Figure size 640x480 with 2 Axes>"
            ],
            "image/png": "[encoded data removed]"
          },
          "metadata": {}
        },
        {
          "output_type": "stream",
          "name": "stdout",
          "text": [
            "ROC-AUC: 0.7262246859561254\n"
          ]
        }
      ],
      "source": [
        "\n",
        "models = {\n",
        "    \"Logistic\": LogisticRegression(max_iter=1000),\n",
        "    \"RandomForest\": RandomForestClassifier(n_estimators=200, random_state=42),\n",
        "    \"XGBoost\": XGBClassifier(eval_metric=\"logloss\", use_label_encoder=False, random_state=42)\n",
        "}\n",
        "\n",
        "for name, model in models.items():\n",
        "    pipe = Pipeline(steps=[(\"preprocessor\", preprocessor), (\"classifier\", model)])\n",
        "    pipe.fit(X_train, y_train)\n",
        "    y_pred = pipe.predict(X_test)\n",
        "\n",
        "    print(f\"\\n=== {name} ===\")\n",
        "    print(classification_report(y_test, y_pred))\n",
        "\n",
        "    cm = confusion_matrix(y_test, y_pred)\n",
        "    disp = ConfusionMatrixDisplay(confusion_matrix=cm, display_labels=[\"Ruim\", \"Bom\"])\n",
        "    disp.plot(cmap=plt.cm.Blues)\n",
        "    plt.title(f\"Matriz de confusão - {name}\")\n",
        "    plt.show()\n",
        "\n",
        "    if hasattr(pipe, \"predict_proba\"):\n",
        "        y_proba = pipe.predict_proba(X_test)[:, 1]\n",
        "        auc = roc_auc_score(y_test, y_proba)\n",
        "        print(\"ROC-AUC:\", auc)\n"
      ]
    },
    {
      "cell_type": "markdown",
      "id": "cb397f1f",
      "metadata": {
        "id": "cb397f1f"
      },
      "source": [
        "## 9. Otimização de hiperparâmetros (exemplo com XGBoost)\n",
        "Os modelos foram avaliados com base em métricas de classificação, como precisão, recall, F1-score e ROC-AUC. De forma geral, Random Forest e XGBoost apresentaram desempenho superior à Regressão Logística, com melhor equilíbrio entre classes e maior capacidade de capturar padrões não-lineares.\n",
        "\n",
        "Este estudo demonstrou a aplicação de aprendizado supervisionado para prever avaliações de jogos no Steam. Os resultados sugerem que variáveis relacionadas à popularidade (número de reviews) e características do jogo (gênero e preço) têm grande impacto sobre a percepção dos usuários. Como trabalhos futuros, pode-se explorar técnicas de balanceamento de classes, uso de\n",
        "embeddings de texto para descrições de jogos e aplicação de modelos de deep learning."
      ]
    },
    {
      "cell_type": "code",
      "execution_count": null,
      "id": "c3797ec3",
      "metadata": {
        "id": "c3797ec3",
        "outputId": "68c9e396-d6c2-4e8b-f230-a8572e6fc4f1",
        "colab": {
          "base_uri": "https://localhost:8080/"
        }
      },
      "outputs": [
        {
          "output_type": "stream",
          "name": "stdout",
          "text": [
            "Melhores parâmetros: {'classifier__learning_rate': 0.1, 'classifier__max_depth': 3, 'classifier__n_estimators': 200}\n",
            "Melhor score CV (f1): 0.7931740401925618\n"
          ]
        }
      ],
      "source": [
        "\n",
        "param_grid = {\n",
        "    \"classifier__n_estimators\": [100, 200],\n",
        "    \"classifier__max_depth\": [3, 5, 7],\n",
        "    \"classifier__learning_rate\": [0.01, 0.1, 0.3]\n",
        "}\n",
        "\n",
        "xgb_pipe = Pipeline(steps=[(\"preprocessor\", preprocessor), (\"classifier\", XGBClassifier(eval_metric=\"logloss\"))])\n",
        "\n",
        "grid = GridSearchCV(xgb_pipe, param_grid, cv=3, scoring=\"f1\", n_jobs=-1)\n",
        "grid.fit(X_train, y_train)\n",
        "\n",
        "print(\"Melhores parâmetros:\", grid.best_params_)\n",
        "print(\"Melhor score CV (f1):\", grid.best_score_)\n"
      ]
    }
  ],
  "metadata": {
    "kernelspec": {
      "display_name": "base",
      "language": "python",
      "name": "python3"
    },
    "language_info": {
      "codemirror_mode": {
        "name": "ipython",
        "version": 3
      },
      "file_extension": ".py",
      "mimetype": "text/x-python",
      "name": "python",
      "nbconvert_exporter": "python",
      "pygments_lexer": "ipython3",
      "version": "3.12.7"
    },
    "colab": {
      "provenance": [],
      "include_colab_link": true
    }
  },
  "nbformat": 4,
  "nbformat_minor": 5
}